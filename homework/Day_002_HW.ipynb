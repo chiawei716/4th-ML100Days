{
 "cells": [
  {
   "cell_type": "markdown",
   "metadata": {},
   "source": [
    "## [作業目標]\n",
    "了解機器學習適合應用的領域與範疇。"
   ]
  },
  {
   "cell_type": "markdown",
   "metadata": {},
   "source": [
    "## [作業重點]\n",
    "透過瞭解機器學習的運作方式，找出非常適用機器學習應用的領域及其原因"
   ]
  },
  {
   "cell_type": "markdown",
   "metadata": {},
   "source": [
    "## 作業\n",
    "請找出一個你認為機器學習可以發光發熱的領域並闡述原因? "
   ]
  },
  {
   "cell_type": "markdown",
   "metadata": {},
   "source": [
    "## [Ans]\n",
    "\n",
    "表演活動產業。\n",
    "目前在表演方和活動主辦方的費用協調上有個很大的詬病，即活動預算和表演費用的報價上常常呈現「誰報誰輸」的僵局，\n",
    "活動方不願高報，而表演方反之。\n",
    "\n",
    "若使用監督式學習，蒐集一定量活動舉辦的資訊，如活動規模及類型、表演者知名度及對應活動需求、舉辦時間及地點等等，\n",
    "或許可以讓活動方在填完需求後，及作出預算、或更多可以協助籌辦的重要資訊及注意事項，\n",
    "除了一方面解決這樣容易造成效率低落的情況，亦可以透過降低活動舉辦的難度，以提升該產業的產值及新興娛樂方式誕生的可能性。\n"
   ]
  }
 ],
 "metadata": {
  "kernelspec": {
   "display_name": "Python 3",
   "language": "python",
   "name": "python3"
  },
  "language_info": {
   "codemirror_mode": {
    "name": "ipython",
    "version": 3
   },
   "file_extension": ".py",
   "mimetype": "text/x-python",
   "name": "python",
   "nbconvert_exporter": "python",
   "pygments_lexer": "ipython3",
   "version": "3.7.4"
  }
 },
 "nbformat": 4,
 "nbformat_minor": 2
}
